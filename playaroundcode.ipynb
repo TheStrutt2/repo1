{
 "cells": [
  {
   "cell_type": "code",
   "execution_count": 13,
   "metadata": {},
   "outputs": [],
   "source": [
    "from tkinter import *\n",
    "import tkinter.messagebox"
   ]
  },
  {
   "cell_type": "code",
   "execution_count": 15,
   "metadata": {},
   "outputs": [
    {
     "name": "stdout",
     "output_type": "stream",
     "text": [
      "I am not surprised...\n"
     ]
    }
   ],
   "source": [
    "root = Tk()\n",
    "\n",
    "tkinter.messagebox.showinfo('Window title', 'I am researching within the Membrane Biophysics group')\n",
    "\n",
    "answer = tkinter.messagebox.askquestion('Question 1', 'Are DIBs stable?')\n",
    "\n",
    "if answer == 'yes':\n",
    "    print('B=O')\n",
    "else:\n",
    "    print('I am not surprised about that')\n",
    "\n",
    "root.mainloop()"
   ]
  },
  {
   "cell_type": "code",
   "execution_count": null,
   "metadata": {},
   "outputs": [],
   "source": []
  }
 ],
 "metadata": {
  "kernelspec": {
   "display_name": "Python 3",
   "language": "python",
   "name": "python3"
  },
  "language_info": {
   "codemirror_mode": {
    "name": "ipython",
    "version": 3
   },
   "file_extension": ".py",
   "mimetype": "text/x-python",
   "name": "python",
   "nbconvert_exporter": "python",
   "pygments_lexer": "ipython3",
   "version": "3.6.4"
  }
 },
 "nbformat": 4,
 "nbformat_minor": 2
}
